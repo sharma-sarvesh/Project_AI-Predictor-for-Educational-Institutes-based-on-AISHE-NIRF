{
 "cells": [
  {
   "cell_type": "code",
   "execution_count": null,
   "id": "216b2ee1",
   "metadata": {},
   "outputs": [],
   "source": [
    "import pandas as pd\n",
    "from xgboost import XGBRegressor\n",
    "from sklearn.model_selection import train_test_split\n",
    "from sklearn.metrics import mean_squared_error, mean_absolute_error, r2_score"
   ]
  },
  {
   "cell_type": "code",
   "execution_count": null,
   "id": "00779591",
   "metadata": {},
   "outputs": [],
   "source": [
    "# Load the merged data\n",
    "merged_data = pd.read_csv(\"EngineeringRanking_Final.csv\")"
   ]
  },
  {
   "cell_type": "code",
   "execution_count": null,
   "id": "fc96a512",
   "metadata": {},
   "outputs": [],
   "source": [
    "# Feature selection\n",
    "features = ['Score_23', 'Score_22', 'Score_21', 'Score_20', 'Score_19', 'Score_18', 'Score_17', 'Score_16',\n",
    "            'TLR_23', 'TLR_22', 'TLR_21', 'TLR_20', 'TLR_19', 'TLR_18', 'TLR_17', 'TLR_16',\n",
    "            'RPC_23', 'RPC_22', 'RPC_21', 'RPC_20', 'RPC_19', 'RPC_18', 'RPC_17', 'RPC_16',\n",
    "            'GO_23', 'GO_22', 'GO_21', 'GO_20', 'GO_19', 'GO_18', 'GO_17', 'GO_16',\n",
    "            'OI_23', 'OI_22', 'OI_21', 'OI_20', 'OI_19', 'OI_18', 'OI_17', 'OI_16',\n",
    "            'Perception_23', 'Perception_22', 'Perception_21', 'Perception_20', 'Perception_19',\n",
    "            'Perception_18', 'Perception_17', 'Perception_16']\n",
    "target = 'Rank_24'  # Predicting the rank for 2024"
   ]
  },
  {
   "cell_type": "code",
   "execution_count": null,
   "id": "b9bd4207",
   "metadata": {},
   "outputs": [],
   "source": [
    "# Prepare the features (X) and target variable (y)\n",
    "X = merged_data[features]\n",
    "y = merged_data[target]"
   ]
  },
  {
   "cell_type": "code",
   "execution_count": null,
   "id": "d61f238b",
   "metadata": {
    "scrolled": true
   },
   "outputs": [],
   "source": [
    "# Split the data into training (2016-2023) and testing (2024) sets\n",
    "X_train, X_test, y_train, y_test = train_test_split(X, y, test_size=0.2, random_state=42)"
   ]
  },
  {
   "cell_type": "code",
   "execution_count": null,
   "id": "ef9dae19",
   "metadata": {},
   "outputs": [],
   "source": []
  },
  {
   "cell_type": "code",
   "execution_count": null,
   "id": "29287a12",
   "metadata": {
    "scrolled": false
   },
   "outputs": [],
   "source": []
  },
  {
   "cell_type": "code",
   "execution_count": null,
   "id": "2175d2fd",
   "metadata": {
    "scrolled": false
   },
   "outputs": [],
   "source": []
  },
  {
   "cell_type": "code",
   "execution_count": null,
   "id": "d409e2d1",
   "metadata": {},
   "outputs": [],
   "source": []
  },
  {
   "cell_type": "code",
   "execution_count": null,
   "id": "e105f702",
   "metadata": {},
   "outputs": [],
   "source": []
  },
  {
   "cell_type": "code",
   "execution_count": null,
   "id": "2157fbe4",
   "metadata": {},
   "outputs": [],
   "source": []
  },
  {
   "cell_type": "code",
   "execution_count": null,
   "id": "deec7261",
   "metadata": {},
   "outputs": [],
   "source": []
  },
  {
   "cell_type": "code",
   "execution_count": null,
   "id": "880150dc",
   "metadata": {},
   "outputs": [],
   "source": []
  },
  {
   "cell_type": "code",
   "execution_count": null,
   "id": "04f15a3b",
   "metadata": {},
   "outputs": [],
   "source": []
  },
  {
   "cell_type": "code",
   "execution_count": null,
   "id": "f4ee60fb",
   "metadata": {},
   "outputs": [],
   "source": []
  },
  {
   "cell_type": "code",
   "execution_count": null,
   "id": "1bc6a21f",
   "metadata": {},
   "outputs": [],
   "source": []
  },
  {
   "cell_type": "code",
   "execution_count": null,
   "id": "3091dcda",
   "metadata": {},
   "outputs": [],
   "source": []
  },
  {
   "cell_type": "code",
   "execution_count": null,
   "id": "ec406c32",
   "metadata": {},
   "outputs": [],
   "source": []
  },
  {
   "cell_type": "code",
   "execution_count": null,
   "id": "b13101c2",
   "metadata": {},
   "outputs": [],
   "source": []
  },
  {
   "cell_type": "code",
   "execution_count": null,
   "id": "68d85311",
   "metadata": {},
   "outputs": [],
   "source": []
  }
 ],
 "metadata": {
  "kernelspec": {
   "display_name": "Python 3 (ipykernel)",
   "language": "python",
   "name": "python3"
  },
  "language_info": {
   "codemirror_mode": {
    "name": "ipython",
    "version": 3
   },
   "file_extension": ".py",
   "mimetype": "text/x-python",
   "name": "python",
   "nbconvert_exporter": "python",
   "pygments_lexer": "ipython3",
   "version": "3.10.9"
  }
 },
 "nbformat": 4,
 "nbformat_minor": 5
}
