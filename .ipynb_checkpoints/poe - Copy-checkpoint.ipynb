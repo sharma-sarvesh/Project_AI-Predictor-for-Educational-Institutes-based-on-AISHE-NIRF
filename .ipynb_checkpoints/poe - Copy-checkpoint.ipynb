{
 "cells": [
  {
   "cell_type": "code",
   "execution_count": null,
   "id": "3362b948",
   "metadata": {},
   "outputs": [],
   "source": [
    "#Load the necessary libraries:\n",
    "import pandas as pd\n",
    "from xgboost import XGBRegressor\n",
    "from sklearn.model_selection import train_test_split\n",
    "from sklearn.metrics import mean_squared_error, mean_absolute_error, r2_score"
   ]
  },
  {
   "cell_type": "code",
   "execution_count": null,
   "id": "f3d90ec5",
   "metadata": {},
   "outputs": [],
   "source": [
    "#Load the data:\n",
    "data = pd.read_csv(\"EngineeringRanking_Final.csv\")\n",
    "data.fillna(0, inplace=True)"
   ]
  },
  {
   "cell_type": "code",
   "execution_count": null,
   "id": "d1a0ca1a",
   "metadata": {},
   "outputs": [],
   "source": [
    "#Convert non-numeric columns to numeric types:\n",
    "numeric_columns = ['Score_23', 'Score_22', 'Score_21', 'Score_20', 'Score_19', 'Score_18', 'Score_17', 'Score_16',\n",
    "            'TLR_23', 'TLR_22', 'TLR_21', 'TLR_20', 'TLR_19', 'TLR_18', 'TLR_17', 'TLR_16',\n",
    "            'RPC_23', 'RPC_22', 'RPC_21', 'RPC_20', 'RPC_19', 'RPC_18', 'RPC_17', 'RPC_16',\n",
    "            'GO_23', 'GO_22', 'GO_21', 'GO_20', 'GO_19', 'GO_18', 'GO_17', 'GO_16',\n",
    "            'OI_23', 'OI_22', 'OI_21', 'OI_20', 'OI_19', 'OI_18', 'OI_17', 'OI_16',\n",
    "            'Perception_23', 'Perception_22', 'Perception_21', 'Perception_20', 'Perception_19',\n",
    "            'Perception_18', 'Perception_17', 'Perception_16']\n",
    "data[numeric_columns] = data[numeric_columns].apply(pd.to_numeric, errors='coerce')"
   ]
  },
  {
   "cell_type": "code",
   "execution_count": null,
   "id": "f8038331",
   "metadata": {},
   "outputs": [],
   "source": [
    "#Select the features and target variable:\n",
    "features = ['Score_23', 'Score_22', 'Score_21', 'Score_20', 'Score_19', 'Score_18', 'Score_17', 'Score_16',\n",
    "            'TLR_23', 'TLR_22', 'TLR_21', 'TLR_20', 'TLR_19', 'TLR_18', 'TLR_17', 'TLR_16',\n",
    "            'RPC_23', 'RPC_22', 'RPC_21', 'RPC_20', 'RPC_19', 'RPC_18', 'RPC_17', 'RPC_16',\n",
    "            'GO_23', 'GO_22', 'GO_21', 'GO_20', 'GO_19', 'GO_18', 'GO_17', 'GO_16',\n",
    "            'OI_23', 'OI_22', 'OI_21', 'OI_20', 'OI_19', 'OI_18', 'OI_17', 'OI_16',\n",
    "            'Perception_23', 'Perception_22', 'Perception_21', 'Perception_20', 'Perception_19',\n",
    "            'Perception_18', 'Perception_17', 'Perception_16']\n",
    "X = data[features]\n",
    "y = data['Rank_24']"
   ]
  },
  {
   "cell_type": "code",
   "execution_count": null,
   "id": "39de2ea5",
   "metadata": {},
   "outputs": [],
   "source": [
    "#Split the data into training and testing sets:\n",
    "X_train, X_test, y_train, y_test = train_test_split(X, y, test_size=0.2, random_state=42)"
   ]
  },
  {
   "cell_type": "code",
   "execution_count": null,
   "id": "9f6ff3c6",
   "metadata": {},
   "outputs": [],
   "source": [
    "#Initialize an XGBoost regressor model and fit it to the training data:\n",
    "model = XGBRegressor()\n",
    "model.fit(X_train, y_train)"
   ]
  },
  {
   "cell_type": "code",
   "execution_count": null,
   "id": "c0d91427",
   "metadata": {},
   "outputs": [],
   "source": [
    "# Prepare the data for the year 2024 (where the Rank_23 is NaN)\n",
    "X_2024 = data.loc[data['Rank_23'].isnull(), features]"
   ]
  },
  {
   "cell_type": "code",
   "execution_count": null,
   "id": "f2fccdef",
   "metadata": {
    "scrolled": true
   },
   "outputs": [],
   "source": [
    "# Make predictions using the trained model\n",
    "y_2024_pred = model.predict(X_2024)"
   ]
  },
  {
   "cell_type": "code",
   "execution_count": null,
   "id": "1387db15",
   "metadata": {
    "scrolled": true
   },
   "outputs": [],
   "source": [
    "# Update the DataFrame with the predicted ranks for the year 2024\n",
    "data.loc[data['Rank_23'].isnull(), 'Rank_24'] = y_2024_pred"
   ]
  },
  {
   "cell_type": "code",
   "execution_count": null,
   "id": "205a821c",
   "metadata": {
    "scrolled": true
   },
   "outputs": [],
   "source": [
    "# Extract the predicted ranks for the year 2024 and print them\n",
    "predicted_ranks_2024 = data.loc[data['Rank_23'].isnull(), ['Institute Name', 'City', 'State', 'Rank_23']]\n",
    "print(\"Predicted Ranks for the Year 2024:\")\n",
    "print(predicted_ranks_2024)"
   ]
  },
  {
   "cell_type": "code",
   "execution_count": null,
   "id": "bebd9376",
   "metadata": {
    "scrolled": false
   },
   "outputs": [],
   "source": [
    "# Save the predicted ranks for the year 2024 to a new Excel file\n",
    "predicted_ranks_2016_2024 = data.loc[:, ['Institute Id', 'Institute Name', 'City', 'State', 'Rank_16', 'Rank_17', 'Rank_18', 'Rank_19', 'Rank_20', 'Rank_21', 'Rank_22', 'Rank_23', 'Rank_24']]\n",
    "predicted_ranks_2016_2024.to_excel('predicted_ranks_2016_2024.xlsx', index=False)"
   ]
  },
  {
   "cell_type": "code",
   "execution_count": null,
   "id": "1c219873",
   "metadata": {
    "scrolled": true
   },
   "outputs": [],
   "source": []
  },
  {
   "cell_type": "code",
   "execution_count": null,
   "id": "1c864592",
   "metadata": {},
   "outputs": [],
   "source": []
  },
  {
   "cell_type": "code",
   "execution_count": null,
   "id": "a9696a83",
   "metadata": {},
   "outputs": [],
   "source": []
  },
  {
   "cell_type": "code",
   "execution_count": null,
   "id": "874120d2",
   "metadata": {},
   "outputs": [],
   "source": []
  }
 ],
 "metadata": {
  "kernelspec": {
   "display_name": "Python 3 (ipykernel)",
   "language": "python",
   "name": "python3"
  },
  "language_info": {
   "codemirror_mode": {
    "name": "ipython",
    "version": 3
   },
   "file_extension": ".py",
   "mimetype": "text/x-python",
   "name": "python",
   "nbconvert_exporter": "python",
   "pygments_lexer": "ipython3",
   "version": "3.10.9"
  }
 },
 "nbformat": 4,
 "nbformat_minor": 5
}
