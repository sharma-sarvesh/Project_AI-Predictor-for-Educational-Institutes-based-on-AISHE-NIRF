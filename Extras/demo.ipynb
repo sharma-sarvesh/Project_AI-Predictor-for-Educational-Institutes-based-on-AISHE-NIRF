{
 "cells": [
  {
   "cell_type": "code",
   "execution_count": 1,
   "id": "216b2ee1",
   "metadata": {},
   "outputs": [],
   "source": [
    "import pandas as pd\n",
    "from xgboost import XGBRegressor\n",
    "from sklearn.model_selection import train_test_split\n",
    "from sklearn.metrics import mean_squared_error, mean_absolute_error, r2_score"
   ]
  },
  {
   "cell_type": "code",
   "execution_count": 2,
   "id": "00779591",
   "metadata": {},
   "outputs": [],
   "source": [
    "# Load the merged data\n",
    "merged_data = pd.read_csv(\"EngineeringRanking_Final.csv\")"
   ]
  },
  {
   "cell_type": "code",
   "execution_count": 3,
   "id": "670fb12c",
   "metadata": {},
   "outputs": [],
   "source": [
    "# Handling missing values by filling with 0\n",
    "merged_data.fillna(0, inplace=True)"
   ]
  },
  {
   "cell_type": "code",
   "execution_count": 4,
   "id": "fc96a512",
   "metadata": {},
   "outputs": [],
   "source": [
    "# Feature selection\n",
    "features = ['Score_23', 'Score_22', 'Score_21', 'Score_20', 'Score_19', 'Score_18', 'Score_17', 'Score_16',\n",
    "            'TLR_23', 'TLR_22', 'TLR_21', 'TLR_20', 'TLR_19', 'TLR_18', 'TLR_17', 'TLR_16',\n",
    "            'RPC_23', 'RPC_22', 'RPC_21', 'RPC_20', 'RPC_19', 'RPC_18', 'RPC_17', 'RPC_16',\n",
    "            'GO_23', 'GO_22', 'GO_21', 'GO_20', 'GO_19', 'GO_18', 'GO_17', 'GO_16',\n",
    "            'OI_23', 'OI_22', 'OI_21', 'OI_20', 'OI_19', 'OI_18', 'OI_17', 'OI_16',\n",
    "            'Perception_23', 'Perception_22', 'Perception_21', 'Perception_20', 'Perception_19',\n",
    "            'Perception_18', 'Perception_17', 'Perception_16']\n",
    "target = 'Rank_24'  # Predicting the rank for 2024"
   ]
  },
  {
   "cell_type": "code",
   "execution_count": 5,
   "id": "b9bd4207",
   "metadata": {},
   "outputs": [],
   "source": [
    "# Prepare the features (X) and target variable (y)\n",
    "X = merged_data[features]\n",
    "y = merged_data[target]"
   ]
  },
  {
   "cell_type": "code",
   "execution_count": 6,
   "id": "d61f238b",
   "metadata": {
    "scrolled": true
   },
   "outputs": [],
   "source": [
    "# Split the data into training (2016-2023) and testing (2024) sets\n",
    "X_train, X_test, y_train, y_test = train_test_split(X, y, test_size=0.2, random_state=42)"
   ]
  },
  {
   "cell_type": "code",
   "execution_count": 7,
   "id": "ef9dae19",
   "metadata": {},
   "outputs": [
    {
     "data": {
      "text/html": [
       "<style>#sk-container-id-1 {color: black;background-color: white;}#sk-container-id-1 pre{padding: 0;}#sk-container-id-1 div.sk-toggleable {background-color: white;}#sk-container-id-1 label.sk-toggleable__label {cursor: pointer;display: block;width: 100%;margin-bottom: 0;padding: 0.3em;box-sizing: border-box;text-align: center;}#sk-container-id-1 label.sk-toggleable__label-arrow:before {content: \"▸\";float: left;margin-right: 0.25em;color: #696969;}#sk-container-id-1 label.sk-toggleable__label-arrow:hover:before {color: black;}#sk-container-id-1 div.sk-estimator:hover label.sk-toggleable__label-arrow:before {color: black;}#sk-container-id-1 div.sk-toggleable__content {max-height: 0;max-width: 0;overflow: hidden;text-align: left;background-color: #f0f8ff;}#sk-container-id-1 div.sk-toggleable__content pre {margin: 0.2em;color: black;border-radius: 0.25em;background-color: #f0f8ff;}#sk-container-id-1 input.sk-toggleable__control:checked~div.sk-toggleable__content {max-height: 200px;max-width: 100%;overflow: auto;}#sk-container-id-1 input.sk-toggleable__control:checked~label.sk-toggleable__label-arrow:before {content: \"▾\";}#sk-container-id-1 div.sk-estimator input.sk-toggleable__control:checked~label.sk-toggleable__label {background-color: #d4ebff;}#sk-container-id-1 div.sk-label input.sk-toggleable__control:checked~label.sk-toggleable__label {background-color: #d4ebff;}#sk-container-id-1 input.sk-hidden--visually {border: 0;clip: rect(1px 1px 1px 1px);clip: rect(1px, 1px, 1px, 1px);height: 1px;margin: -1px;overflow: hidden;padding: 0;position: absolute;width: 1px;}#sk-container-id-1 div.sk-estimator {font-family: monospace;background-color: #f0f8ff;border: 1px dotted black;border-radius: 0.25em;box-sizing: border-box;margin-bottom: 0.5em;}#sk-container-id-1 div.sk-estimator:hover {background-color: #d4ebff;}#sk-container-id-1 div.sk-parallel-item::after {content: \"\";width: 100%;border-bottom: 1px solid gray;flex-grow: 1;}#sk-container-id-1 div.sk-label:hover label.sk-toggleable__label {background-color: #d4ebff;}#sk-container-id-1 div.sk-serial::before {content: \"\";position: absolute;border-left: 1px solid gray;box-sizing: border-box;top: 0;bottom: 0;left: 50%;z-index: 0;}#sk-container-id-1 div.sk-serial {display: flex;flex-direction: column;align-items: center;background-color: white;padding-right: 0.2em;padding-left: 0.2em;position: relative;}#sk-container-id-1 div.sk-item {position: relative;z-index: 1;}#sk-container-id-1 div.sk-parallel {display: flex;align-items: stretch;justify-content: center;background-color: white;position: relative;}#sk-container-id-1 div.sk-item::before, #sk-container-id-1 div.sk-parallel-item::before {content: \"\";position: absolute;border-left: 1px solid gray;box-sizing: border-box;top: 0;bottom: 0;left: 50%;z-index: -1;}#sk-container-id-1 div.sk-parallel-item {display: flex;flex-direction: column;z-index: 1;position: relative;background-color: white;}#sk-container-id-1 div.sk-parallel-item:first-child::after {align-self: flex-end;width: 50%;}#sk-container-id-1 div.sk-parallel-item:last-child::after {align-self: flex-start;width: 50%;}#sk-container-id-1 div.sk-parallel-item:only-child::after {width: 0;}#sk-container-id-1 div.sk-dashed-wrapped {border: 1px dashed gray;margin: 0 0.4em 0.5em 0.4em;box-sizing: border-box;padding-bottom: 0.4em;background-color: white;}#sk-container-id-1 div.sk-label label {font-family: monospace;font-weight: bold;display: inline-block;line-height: 1.2em;}#sk-container-id-1 div.sk-label-container {text-align: center;}#sk-container-id-1 div.sk-container {/* jupyter's `normalize.less` sets `[hidden] { display: none; }` but bootstrap.min.css set `[hidden] { display: none !important; }` so we also need the `!important` here to be able to override the default hidden behavior on the sphinx rendered scikit-learn.org. See: https://github.com/scikit-learn/scikit-learn/issues/21755 */display: inline-block !important;position: relative;}#sk-container-id-1 div.sk-text-repr-fallback {display: none;}</style><div id=\"sk-container-id-1\" class=\"sk-top-container\"><div class=\"sk-text-repr-fallback\"><pre>XGBRegressor(base_score=None, booster=None, callbacks=None,\n",
       "             colsample_bylevel=None, colsample_bynode=None,\n",
       "             colsample_bytree=None, device=None, early_stopping_rounds=None,\n",
       "             enable_categorical=False, eval_metric=None, feature_types=None,\n",
       "             gamma=None, grow_policy=None, importance_type=None,\n",
       "             interaction_constraints=None, learning_rate=None, max_bin=None,\n",
       "             max_cat_threshold=None, max_cat_to_onehot=None,\n",
       "             max_delta_step=None, max_depth=None, max_leaves=None,\n",
       "             min_child_weight=None, missing=nan, monotone_constraints=None,\n",
       "             multi_strategy=None, n_estimators=None, n_jobs=None,\n",
       "             num_parallel_tree=None, random_state=None, ...)</pre><b>In a Jupyter environment, please rerun this cell to show the HTML representation or trust the notebook. <br />On GitHub, the HTML representation is unable to render, please try loading this page with nbviewer.org.</b></div><div class=\"sk-container\" hidden><div class=\"sk-item\"><div class=\"sk-estimator sk-toggleable\"><input class=\"sk-toggleable__control sk-hidden--visually\" id=\"sk-estimator-id-1\" type=\"checkbox\" checked><label for=\"sk-estimator-id-1\" class=\"sk-toggleable__label sk-toggleable__label-arrow\">XGBRegressor</label><div class=\"sk-toggleable__content\"><pre>XGBRegressor(base_score=None, booster=None, callbacks=None,\n",
       "             colsample_bylevel=None, colsample_bynode=None,\n",
       "             colsample_bytree=None, device=None, early_stopping_rounds=None,\n",
       "             enable_categorical=False, eval_metric=None, feature_types=None,\n",
       "             gamma=None, grow_policy=None, importance_type=None,\n",
       "             interaction_constraints=None, learning_rate=None, max_bin=None,\n",
       "             max_cat_threshold=None, max_cat_to_onehot=None,\n",
       "             max_delta_step=None, max_depth=None, max_leaves=None,\n",
       "             min_child_weight=None, missing=nan, monotone_constraints=None,\n",
       "             multi_strategy=None, n_estimators=None, n_jobs=None,\n",
       "             num_parallel_tree=None, random_state=None, ...)</pre></div></div></div></div></div>"
      ],
      "text/plain": [
       "XGBRegressor(base_score=None, booster=None, callbacks=None,\n",
       "             colsample_bylevel=None, colsample_bynode=None,\n",
       "             colsample_bytree=None, device=None, early_stopping_rounds=None,\n",
       "             enable_categorical=False, eval_metric=None, feature_types=None,\n",
       "             gamma=None, grow_policy=None, importance_type=None,\n",
       "             interaction_constraints=None, learning_rate=None, max_bin=None,\n",
       "             max_cat_threshold=None, max_cat_to_onehot=None,\n",
       "             max_delta_step=None, max_depth=None, max_leaves=None,\n",
       "             min_child_weight=None, missing=nan, monotone_constraints=None,\n",
       "             multi_strategy=None, n_estimators=None, n_jobs=None,\n",
       "             num_parallel_tree=None, random_state=None, ...)"
      ]
     },
     "execution_count": 7,
     "metadata": {},
     "output_type": "execute_result"
    }
   ],
   "source": [
    "# Train the model\n",
    "model = XGBRegressor()\n",
    "model.fit(X_train, y_train)"
   ]
  },
  {
   "cell_type": "code",
   "execution_count": 8,
   "id": "38e5691d",
   "metadata": {},
   "outputs": [],
   "source": [
    "# Validation on 2023 data\n",
    "merged_data.dropna(subset=['Rank_21'], inplace=True)  # Remove rows with missing target values\n",
    "X_val = merged_data[features]\n",
    "y_val_true = merged_data['Rank_21']"
   ]
  },
  {
   "cell_type": "code",
   "execution_count": 9,
   "id": "b33ca2f1",
   "metadata": {},
   "outputs": [
    {
     "name": "stdout",
     "output_type": "stream",
     "text": [
      "Training Set Performance:\n",
      "Mean Squared Error: 0.0\n",
      "Mean Absolute Error: 0.0\n",
      "R-squared: 1.0\n"
     ]
    }
   ],
   "source": [
    "# Evaluate the model on the training set\n",
    "y_train_pred = model.predict(X_train)\n",
    "train_mse = mean_squared_error(y_train, y_train_pred)\n",
    "train_mae = mean_absolute_error(y_train, y_train_pred)\n",
    "train_r2 = r2_score(y_train, y_train_pred)\n",
    "print(f\"Training Set Performance:\")\n",
    "print(f\"Mean Squared Error: {train_mse}\")\n",
    "print(f\"Mean Absolute Error: {train_mae}\")\n",
    "print(f\"R-squared: {train_r2}\")"
   ]
  },
  {
   "cell_type": "code",
   "execution_count": 10,
   "id": "13f3f391",
   "metadata": {},
   "outputs": [
    {
     "name": "stdout",
     "output_type": "stream",
     "text": [
      "\n",
      "Validation Set Performance:\n",
      "Mean Squared Error: 9830.307692307691\n",
      "Mean Absolute Error: 73.58974358974359\n",
      "R-squared: -1.2266422119559826\n"
     ]
    }
   ],
   "source": [
    "# Evaluate the model on the validation set\n",
    "y_val_pred = model.predict(X_val)\n",
    "val_mse = mean_squared_error(y_val_true, y_val_pred)\n",
    "val_mae = mean_absolute_error(y_val_true, y_val_pred)\n",
    "val_r2 = r2_score(y_val_true, y_val_pred)\n",
    "print(f\"\\nValidation Set Performance:\")\n",
    "print(f\"Mean Squared Error: {val_mse}\")\n",
    "print(f\"Mean Absolute Error: {val_mae}\")\n",
    "print(f\"R-squared: {val_r2}\")"
   ]
  },
  {
   "cell_type": "code",
   "execution_count": 11,
   "id": "df7a4b1e",
   "metadata": {},
   "outputs": [
    {
     "name": "stdout",
     "output_type": "stream",
     "text": [
      "\n",
      "Test Set Performance:\n",
      "Mean Squared Error: 0.0\n",
      "Mean Absolute Error: 0.0\n",
      "R-squared: 1.0\n"
     ]
    }
   ],
   "source": [
    "# Evaluate the model on the test set\n",
    "y_test_pred = model.predict(X_test)\n",
    "test_mse = mean_squared_error(y_test, y_test_pred)\n",
    "test_mae = mean_absolute_error(y_test, y_test_pred)\n",
    "test_r2 = r2_score(y_test, y_test_pred)\n",
    "print(f\"\\nTest Set Performance:\")\n",
    "print(f\"Mean Squared Error: {test_mse}\")\n",
    "print(f\"Mean Absolute Error: {test_mae}\")\n",
    "print(f\"R-squared: {test_r2}\")"
   ]
  },
  {
   "cell_type": "code",
   "execution_count": 12,
   "id": "29287a12",
   "metadata": {
    "scrolled": false
   },
   "outputs": [],
   "source": [
    "# Make predictions for 2024 data\n",
    "y_pred = model.predict(X_test)"
   ]
  },
  {
   "cell_type": "code",
   "execution_count": 13,
   "id": "2175d2fd",
   "metadata": {
    "scrolled": false
   },
   "outputs": [],
   "source": [
    "# Evaluate the model\n",
    "mse = mean_squared_error(y_test, y_pred)\n",
    "mae = mean_absolute_error(y_test, y_pred)\n",
    "r2 = r2_score(y_test, y_pred)"
   ]
  },
  {
   "cell_type": "code",
   "execution_count": 14,
   "id": "d409e2d1",
   "metadata": {},
   "outputs": [
    {
     "name": "stdout",
     "output_type": "stream",
     "text": [
      "Mean Squared Error on Test Set (2024 data): 0.0\n",
      "Mean Absolute Error on Test Set (2024 data): 0.0\n",
      "R-squared on Test Set (2024 data): 1.0\n"
     ]
    }
   ],
   "source": [
    "print(f\"Mean Squared Error on Test Set (2024 data): {mse}\")\n",
    "print(f\"Mean Absolute Error on Test Set (2024 data): {mae}\")\n",
    "print(f\"R-squared on Test Set (2024 data): {r2}\")"
   ]
  },
  {
   "cell_type": "code",
   "execution_count": 15,
   "id": "e105f702",
   "metadata": {
    "scrolled": true
   },
   "outputs": [
    {
     "name": "stdout",
     "output_type": "stream",
     "text": [
      "\n",
      "Predicted Colleges for 2024:\n",
      "                                        Institute Name                   City  \\\n",
      "0                Indian Institute of Technology Madras                Chennai   \n",
      "172            Dr. D. Y. Patil Institute of Technology                   Pune   \n",
      "173                          Guru Nanak Dev University               Amritsar   \n",
      "174                Sri Ramakrishna Engineering College             Coimbatore   \n",
      "175                         KIET Group of Institutions              Ghaziabad   \n",
      "..                                                 ...                    ...   \n",
      "88                                   Panjab University             Chandigarh   \n",
      "87       Netaji Subhas University of Technology (NSUT)             South West   \n",
      "86   Indian Institute of Information Technology All...  Prayagraj (Allahabad)   \n",
      "92   Vel Tech Rangarajan Dr. Sagunthala R & D Insti...                Chennai   \n",
      "272                K.S.Rangasamy College of Technology           Tiruchengode   \n",
      "\n",
      "             State  Predicted_Rank_2024  \n",
      "0       Tamil Nadu                  0.0  \n",
      "172    Maharashtra                  0.0  \n",
      "173         Punjab                  0.0  \n",
      "174     Tamil Nadu                  0.0  \n",
      "175  Uttar Pradesh                  0.0  \n",
      "..             ...                  ...  \n",
      "88      Chandigarh                  0.0  \n",
      "87           Delhi                  0.0  \n",
      "86   Uttar Pradesh                  0.0  \n",
      "92      Tamil Nadu                  0.0  \n",
      "272     Tamil Nadu                  0.0  \n",
      "\n",
      "[273 rows x 4 columns]\n"
     ]
    }
   ],
   "source": [
    "# Get predictions for 2024 data\n",
    "merged_data['Predicted_Rank_2024'] = model.predict(merged_data[['Score_23', 'Score_22', 'Score_21', 'Score_20', 'Score_19', 'Score_18', 'Score_17', 'Score_16',\n",
    "            'TLR_23', 'TLR_22', 'TLR_21', 'TLR_20', 'TLR_19', 'TLR_18', 'TLR_17', 'TLR_16',\n",
    "            'RPC_23', 'RPC_22', 'RPC_21', 'RPC_20', 'RPC_19', 'RPC_18', 'RPC_17', 'RPC_16',\n",
    "            'GO_23', 'GO_22', 'GO_21', 'GO_20', 'GO_19', 'GO_18', 'GO_17', 'GO_16',\n",
    "            'OI_23', 'OI_22', 'OI_21', 'OI_20', 'OI_19', 'OI_18', 'OI_17', 'OI_16',\n",
    "            'Perception_23', 'Perception_22', 'Perception_21', 'Perception_20', 'Perception_19',\n",
    "            'Perception_18', 'Perception_17', 'Perception_16']])\n",
    "sorted_data_2024 = merged_data.sort_values(by='Predicted_Rank_2024')\n",
    "\n",
    "# Displaying all predicted colleges for 2024\n",
    "predicted_colleges_2024 = sorted_data_2024[['Institute Name', 'City', 'State', 'Predicted_Rank_2024']]\n",
    "print(\"\\nPredicted Colleges for 2024:\")\n",
    "print(predicted_colleges_2024)"
   ]
  },
  {
   "cell_type": "code",
   "execution_count": null,
   "id": "2157fbe4",
   "metadata": {},
   "outputs": [],
   "source": []
  },
  {
   "cell_type": "code",
   "execution_count": null,
   "id": "deec7261",
   "metadata": {},
   "outputs": [],
   "source": []
  },
  {
   "cell_type": "code",
   "execution_count": null,
   "id": "880150dc",
   "metadata": {},
   "outputs": [],
   "source": []
  },
  {
   "cell_type": "code",
   "execution_count": null,
   "id": "04f15a3b",
   "metadata": {},
   "outputs": [],
   "source": []
  },
  {
   "cell_type": "code",
   "execution_count": null,
   "id": "f4ee60fb",
   "metadata": {},
   "outputs": [],
   "source": []
  },
  {
   "cell_type": "code",
   "execution_count": null,
   "id": "1bc6a21f",
   "metadata": {},
   "outputs": [],
   "source": []
  },
  {
   "cell_type": "code",
   "execution_count": null,
   "id": "3091dcda",
   "metadata": {},
   "outputs": [],
   "source": []
  },
  {
   "cell_type": "code",
   "execution_count": null,
   "id": "ec406c32",
   "metadata": {},
   "outputs": [],
   "source": []
  },
  {
   "cell_type": "code",
   "execution_count": null,
   "id": "b13101c2",
   "metadata": {},
   "outputs": [],
   "source": []
  },
  {
   "cell_type": "code",
   "execution_count": null,
   "id": "68d85311",
   "metadata": {},
   "outputs": [],
   "source": []
  }
 ],
 "metadata": {
  "kernelspec": {
   "display_name": "Python 3 (ipykernel)",
   "language": "python",
   "name": "python3"
  },
  "language_info": {
   "codemirror_mode": {
    "name": "ipython",
    "version": 3
   },
   "file_extension": ".py",
   "mimetype": "text/x-python",
   "name": "python",
   "nbconvert_exporter": "python",
   "pygments_lexer": "ipython3",
   "version": "3.10.9"
  }
 },
 "nbformat": 4,
 "nbformat_minor": 5
}
