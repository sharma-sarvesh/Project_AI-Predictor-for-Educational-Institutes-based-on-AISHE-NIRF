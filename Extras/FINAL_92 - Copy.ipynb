{
 "cells": [
  {
   "cell_type": "code",
   "execution_count": 1,
   "id": "1d1bf28b",
   "metadata": {},
   "outputs": [
    {
     "name": "stdout",
     "output_type": "stream",
     "text": [
      "Requirement already satisfied: xgboost in c:\\users\\sarve\\anaconda3\\lib\\site-packages (2.0.3)\n",
      "Requirement already satisfied: numpy in c:\\users\\sarve\\anaconda3\\lib\\site-packages (from xgboost) (1.23.5)\n",
      "Requirement already satisfied: scipy in c:\\users\\sarve\\anaconda3\\lib\\site-packages (from xgboost) (1.10.0)\n"
     ]
    }
   ],
   "source": [
    "!pip install xgboost"
   ]
  },
  {
   "cell_type": "code",
   "execution_count": 2,
   "id": "59ffd53d",
   "metadata": {
    "scrolled": false
   },
   "outputs": [],
   "source": [
    "import pandas as pd\n",
    "import numpy as np\n",
    "from xgboost import XGBRegressor\n",
    "from sklearn.model_selection import train_test_split\n",
    "from sklearn.metrics import mean_squared_error, mean_absolute_error, r2_score"
   ]
  },
  {
   "cell_type": "code",
   "execution_count": 3,
   "id": "08d1e28a",
   "metadata": {},
   "outputs": [],
   "source": [
    "# Load the data\n",
    "data = pd.read_csv(\"EngineeringRanking_Final.csv\")"
   ]
  },
  {
   "cell_type": "code",
   "execution_count": 4,
   "id": "510173cf",
   "metadata": {},
   "outputs": [],
   "source": [
    "# Handling missing values by filling with 0\n",
    "data.fillna(0, inplace=True)"
   ]
  },
  {
   "cell_type": "code",
   "execution_count": 5,
   "id": "4e8cad98",
   "metadata": {},
   "outputs": [],
   "source": [
    "# Remove rows with missing target variable (Rank_21)\n",
    "data.dropna(subset=['Rank_21'], inplace=True)"
   ]
  },
  {
   "cell_type": "code",
   "execution_count": 6,
   "id": "2f341147",
   "metadata": {},
   "outputs": [],
   "source": [
    "# Feature selection\n",
    "features = ['Score_21', 'Rank_21', 'TLR_21', 'RPC_21', 'GO_21', 'OI_21', 'Perception_21']\n",
    "X = data[features]\n",
    "y = data['Rank_21']  # Target variable for prediction"
   ]
  },
  {
   "cell_type": "code",
   "execution_count": 7,
   "id": "5bf958c9",
   "metadata": {},
   "outputs": [],
   "source": [
    "# Splitting data into train, validation, and test sets\n",
    "X_train, X_temp, y_train, y_temp = train_test_split(X, y, test_size=0.4, random_state=42)\n",
    "X_val, X_test, y_val, y_test = train_test_split(X_temp, y_temp, test_size=0.5, random_state=42)"
   ]
  },
  {
   "cell_type": "code",
   "execution_count": 8,
   "id": "61645623",
   "metadata": {
    "scrolled": false
   },
   "outputs": [
    {
     "data": {
      "text/html": [
       "<style>#sk-container-id-1 {color: black;background-color: white;}#sk-container-id-1 pre{padding: 0;}#sk-container-id-1 div.sk-toggleable {background-color: white;}#sk-container-id-1 label.sk-toggleable__label {cursor: pointer;display: block;width: 100%;margin-bottom: 0;padding: 0.3em;box-sizing: border-box;text-align: center;}#sk-container-id-1 label.sk-toggleable__label-arrow:before {content: \"▸\";float: left;margin-right: 0.25em;color: #696969;}#sk-container-id-1 label.sk-toggleable__label-arrow:hover:before {color: black;}#sk-container-id-1 div.sk-estimator:hover label.sk-toggleable__label-arrow:before {color: black;}#sk-container-id-1 div.sk-toggleable__content {max-height: 0;max-width: 0;overflow: hidden;text-align: left;background-color: #f0f8ff;}#sk-container-id-1 div.sk-toggleable__content pre {margin: 0.2em;color: black;border-radius: 0.25em;background-color: #f0f8ff;}#sk-container-id-1 input.sk-toggleable__control:checked~div.sk-toggleable__content {max-height: 200px;max-width: 100%;overflow: auto;}#sk-container-id-1 input.sk-toggleable__control:checked~label.sk-toggleable__label-arrow:before {content: \"▾\";}#sk-container-id-1 div.sk-estimator input.sk-toggleable__control:checked~label.sk-toggleable__label {background-color: #d4ebff;}#sk-container-id-1 div.sk-label input.sk-toggleable__control:checked~label.sk-toggleable__label {background-color: #d4ebff;}#sk-container-id-1 input.sk-hidden--visually {border: 0;clip: rect(1px 1px 1px 1px);clip: rect(1px, 1px, 1px, 1px);height: 1px;margin: -1px;overflow: hidden;padding: 0;position: absolute;width: 1px;}#sk-container-id-1 div.sk-estimator {font-family: monospace;background-color: #f0f8ff;border: 1px dotted black;border-radius: 0.25em;box-sizing: border-box;margin-bottom: 0.5em;}#sk-container-id-1 div.sk-estimator:hover {background-color: #d4ebff;}#sk-container-id-1 div.sk-parallel-item::after {content: \"\";width: 100%;border-bottom: 1px solid gray;flex-grow: 1;}#sk-container-id-1 div.sk-label:hover label.sk-toggleable__label {background-color: #d4ebff;}#sk-container-id-1 div.sk-serial::before {content: \"\";position: absolute;border-left: 1px solid gray;box-sizing: border-box;top: 0;bottom: 0;left: 50%;z-index: 0;}#sk-container-id-1 div.sk-serial {display: flex;flex-direction: column;align-items: center;background-color: white;padding-right: 0.2em;padding-left: 0.2em;position: relative;}#sk-container-id-1 div.sk-item {position: relative;z-index: 1;}#sk-container-id-1 div.sk-parallel {display: flex;align-items: stretch;justify-content: center;background-color: white;position: relative;}#sk-container-id-1 div.sk-item::before, #sk-container-id-1 div.sk-parallel-item::before {content: \"\";position: absolute;border-left: 1px solid gray;box-sizing: border-box;top: 0;bottom: 0;left: 50%;z-index: -1;}#sk-container-id-1 div.sk-parallel-item {display: flex;flex-direction: column;z-index: 1;position: relative;background-color: white;}#sk-container-id-1 div.sk-parallel-item:first-child::after {align-self: flex-end;width: 50%;}#sk-container-id-1 div.sk-parallel-item:last-child::after {align-self: flex-start;width: 50%;}#sk-container-id-1 div.sk-parallel-item:only-child::after {width: 0;}#sk-container-id-1 div.sk-dashed-wrapped {border: 1px dashed gray;margin: 0 0.4em 0.5em 0.4em;box-sizing: border-box;padding-bottom: 0.4em;background-color: white;}#sk-container-id-1 div.sk-label label {font-family: monospace;font-weight: bold;display: inline-block;line-height: 1.2em;}#sk-container-id-1 div.sk-label-container {text-align: center;}#sk-container-id-1 div.sk-container {/* jupyter's `normalize.less` sets `[hidden] { display: none; }` but bootstrap.min.css set `[hidden] { display: none !important; }` so we also need the `!important` here to be able to override the default hidden behavior on the sphinx rendered scikit-learn.org. See: https://github.com/scikit-learn/scikit-learn/issues/21755 */display: inline-block !important;position: relative;}#sk-container-id-1 div.sk-text-repr-fallback {display: none;}</style><div id=\"sk-container-id-1\" class=\"sk-top-container\"><div class=\"sk-text-repr-fallback\"><pre>XGBRegressor(base_score=None, booster=None, callbacks=None,\n",
       "             colsample_bylevel=None, colsample_bynode=None,\n",
       "             colsample_bytree=None, device=None, early_stopping_rounds=None,\n",
       "             enable_categorical=False, eval_metric=None, feature_types=None,\n",
       "             gamma=None, grow_policy=None, importance_type=None,\n",
       "             interaction_constraints=None, learning_rate=None, max_bin=None,\n",
       "             max_cat_threshold=None, max_cat_to_onehot=None,\n",
       "             max_delta_step=None, max_depth=None, max_leaves=None,\n",
       "             min_child_weight=None, missing=nan, monotone_constraints=None,\n",
       "             multi_strategy=None, n_estimators=None, n_jobs=None,\n",
       "             num_parallel_tree=None, random_state=None, ...)</pre><b>In a Jupyter environment, please rerun this cell to show the HTML representation or trust the notebook. <br />On GitHub, the HTML representation is unable to render, please try loading this page with nbviewer.org.</b></div><div class=\"sk-container\" hidden><div class=\"sk-item\"><div class=\"sk-estimator sk-toggleable\"><input class=\"sk-toggleable__control sk-hidden--visually\" id=\"sk-estimator-id-1\" type=\"checkbox\" checked><label for=\"sk-estimator-id-1\" class=\"sk-toggleable__label sk-toggleable__label-arrow\">XGBRegressor</label><div class=\"sk-toggleable__content\"><pre>XGBRegressor(base_score=None, booster=None, callbacks=None,\n",
       "             colsample_bylevel=None, colsample_bynode=None,\n",
       "             colsample_bytree=None, device=None, early_stopping_rounds=None,\n",
       "             enable_categorical=False, eval_metric=None, feature_types=None,\n",
       "             gamma=None, grow_policy=None, importance_type=None,\n",
       "             interaction_constraints=None, learning_rate=None, max_bin=None,\n",
       "             max_cat_threshold=None, max_cat_to_onehot=None,\n",
       "             max_delta_step=None, max_depth=None, max_leaves=None,\n",
       "             min_child_weight=None, missing=nan, monotone_constraints=None,\n",
       "             multi_strategy=None, n_estimators=None, n_jobs=None,\n",
       "             num_parallel_tree=None, random_state=None, ...)</pre></div></div></div></div></div>"
      ],
      "text/plain": [
       "XGBRegressor(base_score=None, booster=None, callbacks=None,\n",
       "             colsample_bylevel=None, colsample_bynode=None,\n",
       "             colsample_bytree=None, device=None, early_stopping_rounds=None,\n",
       "             enable_categorical=False, eval_metric=None, feature_types=None,\n",
       "             gamma=None, grow_policy=None, importance_type=None,\n",
       "             interaction_constraints=None, learning_rate=None, max_bin=None,\n",
       "             max_cat_threshold=None, max_cat_to_onehot=None,\n",
       "             max_delta_step=None, max_depth=None, max_leaves=None,\n",
       "             min_child_weight=None, missing=nan, monotone_constraints=None,\n",
       "             multi_strategy=None, n_estimators=None, n_jobs=None,\n",
       "             num_parallel_tree=None, random_state=None, ...)"
      ]
     },
     "execution_count": 8,
     "metadata": {},
     "output_type": "execute_result"
    }
   ],
   "source": [
    "# Train the model\n",
    "model = XGBRegressor()\n",
    "model.fit(X_train, y_train)"
   ]
  },
  {
   "cell_type": "code",
   "execution_count": 9,
   "id": "3dcbd709",
   "metadata": {},
   "outputs": [
    {
     "name": "stdout",
     "output_type": "stream",
     "text": [
      "Training Set Evaluation:\n",
      "Mean Squared Error on Training Set: 1.219778358207069e-06\n",
      "Mean Absolute Error on Training Set: 0.0006720243934649295\n",
      "R-squared on Training Set: 0.9999999997246309\n",
      "\n"
     ]
    }
   ],
   "source": [
    "# Evaluate the model on training set\n",
    "y_train_pred = model.predict(X_train)\n",
    "train_mse = mean_squared_error(y_train, y_train_pred)\n",
    "train_mae = mean_absolute_error(y_train, y_train_pred)\n",
    "train_r2 = r2_score(y_train, y_train_pred)\n",
    "print(\"Training Set Evaluation:\")\n",
    "print(f\"Mean Squared Error on Training Set: {train_mse}\")\n",
    "print(f\"Mean Absolute Error on Training Set: {train_mae}\")\n",
    "print(f\"R-squared on Training Set: {train_r2}\\n\")"
   ]
  },
  {
   "cell_type": "code",
   "execution_count": 10,
   "id": "8e37e3ea",
   "metadata": {},
   "outputs": [
    {
     "name": "stdout",
     "output_type": "stream",
     "text": [
      "\n",
      "Validation Set Evaluation:\n",
      "Mean Squared Error on Validation Set: 6.117125039838679\n",
      "Mean Absolute Error on Validation Set: 1.74941961963758\n",
      "R-squared on Validation Set: 0.9984773183694151\n"
     ]
    }
   ],
   "source": [
    "# Evaluate the model on validation set\n",
    "y_val_pred = model.predict(X_val)\n",
    "val_mse = mean_squared_error(y_val, y_val_pred)\n",
    "val_mae = mean_absolute_error(y_val, y_val_pred)\n",
    "val_r2 = r2_score(y_val, y_val_pred)\n",
    "print(\"\\nValidation Set Evaluation:\")\n",
    "print(f\"Mean Squared Error on Validation Set: {val_mse}\")\n",
    "print(f\"Mean Absolute Error on Validation Set: {val_mae}\")\n",
    "print(f\"R-squared on Validation Set: {val_r2}\")"
   ]
  },
  {
   "cell_type": "code",
   "execution_count": 11,
   "id": "809a7e2f",
   "metadata": {},
   "outputs": [
    {
     "name": "stdout",
     "output_type": "stream",
     "text": [
      "\n",
      "Testing Set Evaluation:\n",
      "Mean Squared Error on Testing Set: 3.605556830232109\n",
      "Mean Absolute Error on Testing Set: 1.3088502148263532\n",
      "R-squared on Testing Set: 0.999227163190001\n"
     ]
    }
   ],
   "source": [
    "# Evaluate the model on testing set\n",
    "y_test_pred = model.predict(X_test)\n",
    "test_mse = mean_squared_error(y_test, y_test_pred)\n",
    "test_mae = mean_absolute_error(y_test, y_test_pred)\n",
    "test_r2 = r2_score(y_test, y_test_pred)\n",
    "print(\"\\nTesting Set Evaluation:\")\n",
    "print(f\"Mean Squared Error on Testing Set: {test_mse}\")\n",
    "print(f\"Mean Absolute Error on Testing Set: {test_mae}\")\n",
    "print(f\"R-squared on Testing Set: {test_r2}\")"
   ]
  },
  {
   "cell_type": "code",
   "execution_count": 12,
   "id": "33aca666",
   "metadata": {},
   "outputs": [
    {
     "name": "stdout",
     "output_type": "stream",
     "text": [
      "\n",
      "Model is overfitting (training R-squared > validation R-squared)\n"
     ]
    }
   ],
   "source": [
    "# Check for overfitting or underfitting\n",
    "if train_r2 > val_r2:\n",
    "    print(\"\\nModel is overfitting (training R-squared > validation R-squared)\")\n",
    "elif train_r2 < val_r2:\n",
    "    print(\"\\nModel is underfitting (training R-squared < validation R-squared)\")\n",
    "else:\n",
    "    print(\"\\nModel is performing well (training R-squared == validation R-squared)\")"
   ]
  },
  {
   "cell_type": "code",
   "execution_count": 13,
   "id": "8785cc3c",
   "metadata": {
    "scrolled": true
   },
   "outputs": [],
   "source": [
    "# Get predictions for 2023 data\n",
    "data.dropna(subset=['Rank_21'], inplace=True)  # Remove rows with missing target values\n",
    "X_val = data[features]\n",
    "y_val_true = data['Rank_21']\n",
    "y_val_pred = model.predict(X_val)\n",
    "data['Predicted_Rank_2023'] = y_val_pred\n",
    "sorted_data_2023 = data.sort_values(by='Predicted_Rank_2023')"
   ]
  },
  {
   "cell_type": "code",
   "execution_count": 14,
   "id": "48e23a36",
   "metadata": {},
   "outputs": [
    {
     "name": "stdout",
     "output_type": "stream",
     "text": [
      "\n",
      "Predicted Rank for 2023:\n",
      "                                   Institute Name          City  \\\n",
      "272           K.S.Rangasamy College of Technology  Tiruchengode   \n",
      "220       Pimpri Chinchwad College of Engineering          Pune   \n",
      "221           Ramrao Adik Institute of Technology   Navi Mumbai   \n",
      "222                               BVRIT Hyderabad     Hyderabad   \n",
      "223  National Institute of Industrial Engineering        Mumbai   \n",
      "..                                            ...           ...   \n",
      "195         The National Institute of Engineering        Mysore   \n",
      "197    Kakatiya Institute of Technology & Science      Warangal   \n",
      "196          K. J. Somaiya College of Engineering        Mumbai   \n",
      "199                   Sri Venkateswara University      Tirupati   \n",
      "198               Walchand College of Engineering        Sangli   \n",
      "\n",
      "              State  Rank_21  Predicted_Rank_2023  \n",
      "272      Tamil Nadu      0.0             0.000002  \n",
      "220     Maharashtra      0.0             0.000002  \n",
      "221     Maharashtra      0.0             0.000002  \n",
      "222       Telangana      0.0             0.000002  \n",
      "223     Maharashtra      0.0             0.000002  \n",
      "..              ...      ...                  ...  \n",
      "195       Karnataka    196.0           196.132126  \n",
      "197       Telangana    197.0           196.193085  \n",
      "196     Maharashtra    197.0           196.620041  \n",
      "199  Andhra Pradesh    200.0           198.984299  \n",
      "198     Maharashtra    199.0           198.999344  \n",
      "\n",
      "[273 rows x 5 columns]\n"
     ]
    }
   ],
   "source": [
    "# Displaying the predicted Rank_23 for colleges\n",
    "Predicted_Rank_23 = sorted_data_2023[['Institute Name', 'City', 'State', 'Rank_21', 'Predicted_Rank_2023']]\n",
    "print(\"\\nPredicted Rank for 2023:\")\n",
    "print(Predicted_Rank_23)"
   ]
  },
  {
   "cell_type": "code",
   "execution_count": 15,
   "id": "0e19ee09",
   "metadata": {},
   "outputs": [
    {
     "name": "stdout",
     "output_type": "stream",
     "text": [
      "Accuracy on Validation Set (2023 data): 78.39%\n"
     ]
    }
   ],
   "source": [
    "#Accuracy:\n",
    "\n",
    "# Calculate accuracy\n",
    "threshold = 1  # Define the threshold for accurate predictions (e.g., within ±1 rank)\n",
    "\n",
    "# Count the number of accurate predictions\n",
    "accurate_predictions = np.sum(np.abs(y_val_true - y_val_pred) <= threshold)\n",
    "\n",
    "# Total number of predictions\n",
    "total_predictions = len(y_val_true)\n",
    "\n",
    "# Calculate accuracy\n",
    "accuracy = (accurate_predictions / total_predictions) * 100\n",
    "print(f\"Accuracy on Validation Set (2023 data): {accuracy:.2f}%\")\n"
   ]
  },
  {
   "cell_type": "code",
   "execution_count": 16,
   "id": "ab81fa71",
   "metadata": {},
   "outputs": [
    {
     "name": "stdout",
     "output_type": "stream",
     "text": [
      "Comparison of Actual and Predicted Ranks for 2023:\n",
      "                                Institute Name          City          State  \\\n",
      "0        Indian Institute of Technology Madras       Chennai     Tamil Nadu   \n",
      "1         Indian Institute of Technology Delhi     New Delhi          Delhi   \n",
      "2        Indian Institute of Technology Bombay        Mumbai    Maharashtra   \n",
      "3        Indian Institute of Technology Kanpur        Kanpur  Uttar Pradesh   \n",
      "4     Indian Institute of Technology Kharagpur     Kharagpur    West Bengal   \n",
      "..                                         ...           ...            ...   \n",
      "268          C.V. Raman College of Engineering   Bhubneshwar         Odisha   \n",
      "269  Maharashtra Institute of Technology, Pune          Pune    Maharashtra   \n",
      "270            Sri Sai Ram Engineering College       Chennai     Tamil Nadu   \n",
      "271        ST. Joseph's College of Engineering       Chennai     Tamil Nadu   \n",
      "272        K.S.Rangasamy College of Technology  Tiruchengode     Tamil Nadu   \n",
      "\n",
      "     Actual Rank 2023  Predicted Rank 2023  \n",
      "0                 1.0                    1  \n",
      "1                 2.0                    2  \n",
      "2                 3.0                    2  \n",
      "3                 4.0                    4  \n",
      "4                 5.0                    5  \n",
      "..                ...                  ...  \n",
      "268               0.0                    0  \n",
      "269               0.0                    0  \n",
      "270               0.0                    0  \n",
      "271               0.0                    0  \n",
      "272               0.0                    0  \n",
      "\n",
      "[273 rows x 5 columns]\n"
     ]
    }
   ],
   "source": [
    "# DataFrame to compare actual and predicted ranks\n",
    "comparison_df = pd.DataFrame({\n",
    "    'Institute Name': data['Institute Name'],\n",
    "    'City': data['City'],\n",
    "    'State': data['State'],\n",
    "    'Actual Rank 2023': y_val_true,\n",
    "    'Predicted Rank 2023': y_val_pred.round().astype(int)  # Round predicted ranks to the nearest integer\n",
    "})\n",
    "\n",
    "# Display the comparison DataFrame\n",
    "print(\"Comparison of Actual and Predicted Ranks for 2023:\")\n",
    "print(comparison_df)\n"
   ]
  },
  {
   "cell_type": "markdown",
   "id": "315a489a",
   "metadata": {},
   "source": [
    "# CLUSTERING ALGORITHM"
   ]
  },
  {
   "cell_type": "code",
   "execution_count": 17,
   "id": "4561c938",
   "metadata": {},
   "outputs": [],
   "source": [
    "import pandas as pd"
   ]
  },
  {
   "cell_type": "code",
   "execution_count": 18,
   "id": "58460ea4",
   "metadata": {},
   "outputs": [
    {
     "data": {
      "text/html": [
       "<div>\n",
       "<style scoped>\n",
       "    .dataframe tbody tr th:only-of-type {\n",
       "        vertical-align: middle;\n",
       "    }\n",
       "\n",
       "    .dataframe tbody tr th {\n",
       "        vertical-align: top;\n",
       "    }\n",
       "\n",
       "    .dataframe thead th {\n",
       "        text-align: right;\n",
       "    }\n",
       "</style>\n",
       "<table border=\"1\" class=\"dataframe\">\n",
       "  <thead>\n",
       "    <tr style=\"text-align: right;\">\n",
       "      <th></th>\n",
       "      <th>Institute Id</th>\n",
       "      <th>Institute Name</th>\n",
       "      <th>City</th>\n",
       "      <th>State</th>\n",
       "      <th>Rank_24</th>\n",
       "      <th>Score_23</th>\n",
       "      <th>Rank_23</th>\n",
       "      <th>TLR_23</th>\n",
       "      <th>RPC_23</th>\n",
       "      <th>GO_23</th>\n",
       "      <th>...</th>\n",
       "      <th>GO_17</th>\n",
       "      <th>OI_17</th>\n",
       "      <th>Perception_17</th>\n",
       "      <th>Score_16</th>\n",
       "      <th>Rank_16</th>\n",
       "      <th>TLR_16</th>\n",
       "      <th>RPC_16</th>\n",
       "      <th>GO_16</th>\n",
       "      <th>OI_16</th>\n",
       "      <th>Perception_16</th>\n",
       "    </tr>\n",
       "  </thead>\n",
       "  <tbody>\n",
       "    <tr>\n",
       "      <th>268</th>\n",
       "      <td>IR17-ENGG-1-26228</td>\n",
       "      <td>C.V. Raman College of Engineering</td>\n",
       "      <td>Bhubneshwar</td>\n",
       "      <td>Odisha</td>\n",
       "      <td>0.0</td>\n",
       "      <td>0.0</td>\n",
       "      <td>0.0</td>\n",
       "      <td>0.0</td>\n",
       "      <td>0.0</td>\n",
       "      <td>0.0</td>\n",
       "      <td>...</td>\n",
       "      <td>49.95</td>\n",
       "      <td>72.48</td>\n",
       "      <td>21.66</td>\n",
       "      <td>0.0</td>\n",
       "      <td>0</td>\n",
       "      <td>0.0</td>\n",
       "      <td>0.0</td>\n",
       "      <td>0.0</td>\n",
       "      <td>0.0</td>\n",
       "      <td>0.0</td>\n",
       "    </tr>\n",
       "    <tr>\n",
       "      <th>269</th>\n",
       "      <td>IR17-ENGG-2-10476</td>\n",
       "      <td>Maharashtra Institute of Technology, Pune</td>\n",
       "      <td>Pune</td>\n",
       "      <td>Maharashtra</td>\n",
       "      <td>0.0</td>\n",
       "      <td>0.0</td>\n",
       "      <td>0.0</td>\n",
       "      <td>0.0</td>\n",
       "      <td>0.0</td>\n",
       "      <td>0.0</td>\n",
       "      <td>...</td>\n",
       "      <td>52.13</td>\n",
       "      <td>63.39</td>\n",
       "      <td>1.46</td>\n",
       "      <td>0.0</td>\n",
       "      <td>0</td>\n",
       "      <td>0.0</td>\n",
       "      <td>0.0</td>\n",
       "      <td>0.0</td>\n",
       "      <td>0.0</td>\n",
       "      <td>0.0</td>\n",
       "    </tr>\n",
       "    <tr>\n",
       "      <th>270</th>\n",
       "      <td>IR17-ENGG-2-12411</td>\n",
       "      <td>Sri Sai Ram Engineering College</td>\n",
       "      <td>Chennai</td>\n",
       "      <td>Tamil Nadu</td>\n",
       "      <td>0.0</td>\n",
       "      <td>0.0</td>\n",
       "      <td>0.0</td>\n",
       "      <td>0.0</td>\n",
       "      <td>0.0</td>\n",
       "      <td>0.0</td>\n",
       "      <td>...</td>\n",
       "      <td>59.32</td>\n",
       "      <td>68.75</td>\n",
       "      <td>4.86</td>\n",
       "      <td>0.0</td>\n",
       "      <td>0</td>\n",
       "      <td>0.0</td>\n",
       "      <td>0.0</td>\n",
       "      <td>0.0</td>\n",
       "      <td>0.0</td>\n",
       "      <td>0.0</td>\n",
       "    </tr>\n",
       "    <tr>\n",
       "      <th>271</th>\n",
       "      <td>IR17-ENGG-2-12581</td>\n",
       "      <td>ST. Joseph's College of Engineering</td>\n",
       "      <td>Chennai</td>\n",
       "      <td>Tamil Nadu</td>\n",
       "      <td>0.0</td>\n",
       "      <td>0.0</td>\n",
       "      <td>0.0</td>\n",
       "      <td>0.0</td>\n",
       "      <td>0.0</td>\n",
       "      <td>0.0</td>\n",
       "      <td>...</td>\n",
       "      <td>49.39</td>\n",
       "      <td>64.92</td>\n",
       "      <td>2.80</td>\n",
       "      <td>0.0</td>\n",
       "      <td>0</td>\n",
       "      <td>0.0</td>\n",
       "      <td>0.0</td>\n",
       "      <td>0.0</td>\n",
       "      <td>0.0</td>\n",
       "      <td>0.0</td>\n",
       "    </tr>\n",
       "    <tr>\n",
       "      <th>272</th>\n",
       "      <td>IR17-ENGG-2-1-2810997882</td>\n",
       "      <td>K.S.Rangasamy College of Technology</td>\n",
       "      <td>Tiruchengode</td>\n",
       "      <td>Tamil Nadu</td>\n",
       "      <td>0.0</td>\n",
       "      <td>0.0</td>\n",
       "      <td>0.0</td>\n",
       "      <td>0.0</td>\n",
       "      <td>0.0</td>\n",
       "      <td>0.0</td>\n",
       "      <td>...</td>\n",
       "      <td>46.44</td>\n",
       "      <td>60.98</td>\n",
       "      <td>5.85</td>\n",
       "      <td>0.0</td>\n",
       "      <td>0</td>\n",
       "      <td>0.0</td>\n",
       "      <td>0.0</td>\n",
       "      <td>0.0</td>\n",
       "      <td>0.0</td>\n",
       "      <td>0.0</td>\n",
       "    </tr>\n",
       "  </tbody>\n",
       "</table>\n",
       "<p>5 rows × 61 columns</p>\n",
       "</div>"
      ],
      "text/plain": [
       "                 Institute Id                             Institute Name  \\\n",
       "268         IR17-ENGG-1-26228          C.V. Raman College of Engineering   \n",
       "269         IR17-ENGG-2-10476  Maharashtra Institute of Technology, Pune   \n",
       "270         IR17-ENGG-2-12411            Sri Sai Ram Engineering College   \n",
       "271         IR17-ENGG-2-12581        ST. Joseph's College of Engineering   \n",
       "272  IR17-ENGG-2-1-2810997882        K.S.Rangasamy College of Technology   \n",
       "\n",
       "             City        State  Rank_24  Score_23  Rank_23  TLR_23  RPC_23  \\\n",
       "268   Bhubneshwar       Odisha      0.0       0.0      0.0     0.0     0.0   \n",
       "269          Pune  Maharashtra      0.0       0.0      0.0     0.0     0.0   \n",
       "270       Chennai   Tamil Nadu      0.0       0.0      0.0     0.0     0.0   \n",
       "271       Chennai   Tamil Nadu      0.0       0.0      0.0     0.0     0.0   \n",
       "272  Tiruchengode   Tamil Nadu      0.0       0.0      0.0     0.0     0.0   \n",
       "\n",
       "     GO_23  ...  GO_17  OI_17  Perception_17  Score_16  Rank_16  TLR_16  \\\n",
       "268    0.0  ...  49.95  72.48          21.66       0.0        0     0.0   \n",
       "269    0.0  ...  52.13  63.39           1.46       0.0        0     0.0   \n",
       "270    0.0  ...  59.32  68.75           4.86       0.0        0     0.0   \n",
       "271    0.0  ...  49.39  64.92           2.80       0.0        0     0.0   \n",
       "272    0.0  ...  46.44  60.98           5.85       0.0        0     0.0   \n",
       "\n",
       "     RPC_16  GO_16  OI_16  Perception_16  \n",
       "268     0.0    0.0    0.0            0.0  \n",
       "269     0.0    0.0    0.0            0.0  \n",
       "270     0.0    0.0    0.0            0.0  \n",
       "271     0.0    0.0    0.0            0.0  \n",
       "272     0.0    0.0    0.0            0.0  \n",
       "\n",
       "[5 rows x 61 columns]"
      ]
     },
     "execution_count": 18,
     "metadata": {},
     "output_type": "execute_result"
    }
   ],
   "source": [
    "data = pd.read_csv(\"EngineeringRanking_Final.csv\")\n",
    "data.fillna(0, inplace=True)\n",
    "data.tail()"
   ]
  },
  {
   "cell_type": "code",
   "execution_count": 19,
   "id": "22dd99b5",
   "metadata": {
    "scrolled": false
   },
   "outputs": [
    {
     "name": "stdout",
     "output_type": "stream",
     "text": [
      "States with institutes are:\n",
      "Tamil Nadu\n",
      "Delhi\n",
      "Maharashtra\n",
      "Uttar Pradesh\n",
      "West Bengal\n",
      "Uttarakhand\n",
      "Assam\n",
      "Telangana\n",
      "Karnataka\n",
      "Jharkhand\n",
      "Madhya Pradesh\n",
      "Punjab\n",
      "Odisha\n",
      "Bihar\n",
      "Gujarat\n",
      "Kerala\n",
      "Rajasthan\n",
      "Himachal Pradesh\n",
      "Haryana\n",
      "Andhra Pradesh\n",
      "Meghalaya\n",
      "Chhattisgarh\n",
      "Jammu and Kashmir\n",
      "Chandigarh\n",
      "Goa\n",
      "Tripura\n",
      "Manipur\n",
      "Pondicherry\n",
      "Arunachal Pradesh\n",
      "Andaman and Nicobar Islands\n",
      "Enter state: Maharashtra\n",
      "\n",
      "Cities in Maharashtra are:\n",
      "Mumbai\n",
      "Nagpur\n",
      "Pune\n",
      "Sangli\n",
      "Navi Mumbai\n",
      "Mumbai Suburban\n",
      "Enter City: Mumbai\n",
      "\n",
      "Institutes in Mumbai from 2016 to 2021:\n",
      "------------------------------------------------------------------------------------------------------------------------------------------------------\n",
      "Institute Name                                                         2016       2017       2018       2019       2020       2021      \n",
      "------------------------------------------------------------------------------------------------------------------------------------------------------\n",
      "Indian Institute of Technology Bombay                                  2          2.0        2          3.0        3.0        3.0       \n",
      "Institute of Chemical Technology                                       0          14.0       10         12.0       18.0       15.0      \n",
      "Veermata Jijabai Technological Institute,  (VJTI, Mumbai)              84         0.0        95         105.0      71.0       82.0      \n",
      "Bharatiya Vidya Bhavan`s Sardar Patel Institute of Technology          0          0.0        0          114.0      125.0      143.0     \n",
      "SVKM`s Narsee Monjee Institute of Management Studies                   0          0.0        0          110.0      151.0      151.0     \n",
      "K. J. Somaiya College of Engineering                                   0          0.0        0          182.0      171.0      197.0     \n",
      "National Institute of Industrial Engineering                           0          0.0        44         66.0       0.0        0.0       \n",
      "Sardar Patel College of Engineering                                    0          0.0        0          180.0      0.0        0.0       \n",
      "Thakur College of Engineering & Technology                             0          0.0        0          193.0      0.0        0.0       \n",
      "National Institute of Industrial Engineering, Mumbai                   0          36.0       0          0.0        0.0        0.0       \n",
      "------------------------------------------------------------------------------------------------------------------------------------------------------\n"
     ]
    }
   ],
   "source": [
    "def display_city_list(state):\n",
    "    cities = data[data['State'] == state]['City'].unique()\n",
    "    print(\"\\nCities in\", state, \"are:\")\n",
    "    for city in cities:\n",
    "        print(city)\n",
    "\n",
    "def display_state_list():\n",
    "    states = data['State'].unique()\n",
    "    print(\"States with institutes are:\")\n",
    "    for state in states:\n",
    "        print(state)\n",
    "        \n",
    "def display_institutes_by_city(city):\n",
    "    city_data = data[data['City'] == city]\n",
    "    if len(city_data) == 0:\n",
    "        print(\"No institutes found in\", city)\n",
    "        return\n",
    "    print(\"\\nInstitutes in\", city, \"from 2016 to 2021:\")\n",
    "    print('-' * 150)\n",
    "    print(\"{:<70} {:<10} {:<10} {:<10} {:<10} {:<10} {:<10}\".format(\n",
    "        \"Institute Name\", \"2016\", \"2017\", \"2018\", \"2019\", \"2020\", \"2021\"))\n",
    "    print('-' * 150)\n",
    "    for index, row in city_data.iterrows():\n",
    "        print(\"{:<70} {:<10} {:<10} {:<10} {:<10} {:<10} {:<10}\".format(\n",
    "            row['Institute Name'],\n",
    "            row['Rank_16'], row['Rank_17'], row['Rank_18'], row['Rank_19'], row['Rank_20'], row['Rank_21']\n",
    "        ))\n",
    "    print('-' * 150)\n",
    "\n",
    "\n",
    "# Main program\n",
    "display_state_list()\n",
    "state = input(\"Enter state: \")\n",
    "display_city_list(state)\n",
    "city = input(\"Enter City: \")\n",
    "display_institutes_by_city(city)"
   ]
  },
  {
   "cell_type": "markdown",
   "id": "34bfa7e2",
   "metadata": {},
   "source": [
    "# Prediction of Rank_24"
   ]
  },
  {
   "cell_type": "code",
   "execution_count": 20,
   "id": "351ed8e3",
   "metadata": {},
   "outputs": [],
   "source": [
    "import pandas as pd\n",
    "import statsmodels.api as sm\n",
    "from statsmodels.tsa.arima.model import ARIMA\n",
    "from sklearn.ensemble import RandomForestRegressor"
   ]
  },
  {
   "cell_type": "code",
   "execution_count": 21,
   "id": "c96c93d4",
   "metadata": {},
   "outputs": [],
   "source": [
    "# Load the data into a pandas DataFrame\n",
    "data = pd.read_csv(\"EngineeringRanking_Final.csv\")"
   ]
  },
  {
   "cell_type": "code",
   "execution_count": 22,
   "id": "b2ceab7a",
   "metadata": {},
   "outputs": [],
   "source": [
    "# Replace all NaN values with 0\n",
    "data.fillna(0, inplace=True)"
   ]
  },
  {
   "cell_type": "code",
   "execution_count": 23,
   "id": "71f51e95",
   "metadata": {},
   "outputs": [],
   "source": [
    "# Reshape the data into a time series format\n",
    "time_series_data = data.melt(id_vars=['Institute Id', 'Institute Name', 'City', 'State'],\n",
    "                             value_vars=['Rank_23', 'Score_23', 'TLR_23', 'RPC_23', 'GO_23', 'OI_23', 'Perception_23'],\n",
    "                             var_name='Metric', value_name='Value')"
   ]
  },
  {
   "cell_type": "code",
   "execution_count": 24,
   "id": "deab85ed",
   "metadata": {},
   "outputs": [],
   "source": [
    "# Group the data by institute and create a time series for each institute\n",
    "grouped = time_series_data.groupby(['Institute Id', 'Institute Name', 'City', 'State', 'Metric'])"
   ]
  },
  {
   "cell_type": "code",
   "execution_count": 25,
   "id": "917acc31",
   "metadata": {},
   "outputs": [],
   "source": [
    "# Train an ARIMA model for each institute's time series\n",
    "forecasts = []\n",
    "for group_name, group in grouped:\n",
    "    institute_id, institute_name, city, state, metric = group_name\n",
    "    if metric == 'Rank':\n",
    "        model = ARIMA(group['Value'], order=(1, 1, 1))\n",
    "        model_fit = model.fit()\n",
    "        forecast = model_fit.forecast(steps=1)\n",
    "        forecasts.append([institute_id, institute_name, city, state, metric, forecast[0]])"
   ]
  },
  {
   "cell_type": "code",
   "execution_count": 26,
   "id": "32ba7d9b",
   "metadata": {},
   "outputs": [],
   "source": [
    "# Alternatively, train a Random Forest Regression model\n",
    "features = ['Score_23', 'TLR_23', 'RPC_23', 'GO_23', 'OI_23', 'Perception_23']\n",
    "target = 'Rank_23'\n",
    "X = data[features]\n",
    "y = data[target]\n",
    "model = RandomForestRegressor(n_estimators=100, random_state=42)\n",
    "model.fit(X, y)\n",
    "predictions = model.predict(X)"
   ]
  },
  {
   "cell_type": "code",
   "execution_count": 27,
   "id": "faafbc25",
   "metadata": {},
   "outputs": [],
   "source": [
    "# Round the predictions to the nearest whole number\n",
    "predictions_rounded = [round(pred) for pred in predictions]"
   ]
  },
  {
   "cell_type": "code",
   "execution_count": 28,
   "id": "8ae66a3a",
   "metadata": {},
   "outputs": [
    {
     "name": "stdout",
     "output_type": "stream",
     "text": [
      "                 Institute Id                             Institute Name  \\\n",
      "0                 IR-E-U-0456      Indian Institute of Technology Madras   \n",
      "1                 IR-E-I-1074       Indian Institute of Technology Delhi   \n",
      "2                 IR-E-U-0306      Indian Institute of Technology Bombay   \n",
      "3                 IR-E-I-1075      Indian Institute of Technology Kanpur   \n",
      "4                 IR-E-U-0573   Indian Institute of Technology Kharagpur   \n",
      "..                        ...                                        ...   \n",
      "268         IR17-ENGG-1-26228          C.V. Raman College of Engineering   \n",
      "269         IR17-ENGG-2-10476  Maharashtra Institute of Technology, Pune   \n",
      "270         IR17-ENGG-2-12411            Sri Sai Ram Engineering College   \n",
      "271         IR17-ENGG-2-12581        ST. Joseph's College of Engineering   \n",
      "272  IR17-ENGG-2-1-2810997882        K.S.Rangasamy College of Technology   \n",
      "\n",
      "             City          State  Predicted Rank 2024  \n",
      "0         Chennai     Tamil Nadu                    2  \n",
      "1       New Delhi          Delhi                    2  \n",
      "2          Mumbai    Maharashtra                    3  \n",
      "3          Kanpur  Uttar Pradesh                    4  \n",
      "4       Kharagpur    West Bengal                    6  \n",
      "..            ...            ...                  ...  \n",
      "268   Bhubneshwar         Odisha                    0  \n",
      "269          Pune    Maharashtra                    0  \n",
      "270       Chennai     Tamil Nadu                    0  \n",
      "271       Chennai     Tamil Nadu                    0  \n",
      "272  Tiruchengode     Tamil Nadu                    0  \n",
      "\n",
      "[273 rows x 5 columns]\n"
     ]
    }
   ],
   "source": [
    "# Combine the predictions for 2024\n",
    "predictions_2024 = pd.DataFrame({'Institute Id': data['Institute Id'],\n",
    "                                  'Institute Name': data['Institute Name'],\n",
    "                                  'City': data['City'],\n",
    "                                  'State': data['State'],\n",
    "                                  'Predicted Rank 2024': predictions_rounded})\n",
    "\n",
    "print(predictions_2024)\n"
   ]
  },
  {
   "cell_type": "code",
   "execution_count": 29,
   "id": "602c0efd",
   "metadata": {},
   "outputs": [],
   "source": [
    "# Save predictions_2024 into a CSV file\n",
    "predictions_2024.to_csv(\"Predictions of Rank_24.csv\", index=False)"
   ]
  },
  {
   "cell_type": "code",
   "execution_count": null,
   "id": "7916f007",
   "metadata": {},
   "outputs": [],
   "source": []
  }
 ],
 "metadata": {
  "kernelspec": {
   "display_name": "Python 3 (ipykernel)",
   "language": "python",
   "name": "python3"
  },
  "language_info": {
   "codemirror_mode": {
    "name": "ipython",
    "version": 3
   },
   "file_extension": ".py",
   "mimetype": "text/x-python",
   "name": "python",
   "nbconvert_exporter": "python",
   "pygments_lexer": "ipython3",
   "version": "3.10.9"
  }
 },
 "nbformat": 4,
 "nbformat_minor": 5
}
